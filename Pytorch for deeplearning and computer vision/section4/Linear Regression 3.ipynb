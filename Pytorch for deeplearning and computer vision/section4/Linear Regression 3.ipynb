{
 "cells": [
  {
   "cell_type": "code",
   "execution_count": 1,
   "metadata": {},
   "outputs": [],
   "source": [
    "import torch\n",
    "import torch.nn as nn\n",
    "import matplotlib.pyplot as plt\n",
    "import numpy as np"
   ]
  },
  {
   "cell_type": "code",
   "execution_count": 2,
   "metadata": {},
   "outputs": [
    {
     "data": {
      "text/plain": [
       "Text(0.5, 0, 'x')"
      ]
     },
     "execution_count": 2,
     "metadata": {},
     "output_type": "execute_result"
    },
    {
     "data": {
      "image/png": "[encoded data removed]",
      "text/plain": [
       "<Figure size 432x288 with 1 Axes>"
      ]
     },
     "metadata": {
      "needs_background": "light"
     },
     "output_type": "display_data"
    }
   ],
   "source": [
    "X = torch.randn(100, 1)*10\n",
    "y = X + torch.randn(100, 1)\n",
    "plt.plot(X.numpy(), y.numpy(), 'o')\n",
    "plt.ylabel('y')\n",
    "plt.xlabel('x')\n"
   ]
  },
  {
   "cell_type": "code",
   "execution_count": 3,
   "metadata": {},
   "outputs": [],
   "source": [
    "class LR(nn.Module): # Module itself will typically act as a base class for all neural network modules.\n",
    "    def __init__(self, input_size, output_size): # init 는 constructor : to construct to initialize new instances of this class\n",
    "        # self simply represents the instance of the class\n",
    "        super().__init__() \n",
    "        self.linear = nn.Linear(input_size, output_size) # represents the instance of the class, the object that we intend to initialized\n",
    "    def forward(self, x):\n",
    "        pred = self.linear(x)\n",
    "        return pred"
   ]
  },
  {
   "cell_type": "code",
   "execution_count": 4,
   "metadata": {},
   "outputs": [
    {
     "name": "stdout",
     "output_type": "stream",
     "text": [
      "LR(\n",
      "  (linear): Linear(in_features=1, out_features=1, bias=True)\n",
      ")\n"
     ]
    }
   ],
   "source": [
    "torch.manual_seed(1)\n",
    "model = LR(1, 1)\n",
    "print(model)"
   ]
  },
  {
   "cell_type": "code",
   "execution_count": 5,
   "metadata": {},
   "outputs": [
    {
     "data": {
      "text/plain": [
       "tensor([[0.0739],\n",
       "        [0.5891]], grad_fn=<AddmmBackward>)"
      ]
     },
     "execution_count": 5,
     "metadata": {},
     "output_type": "execute_result"
    }
   ],
   "source": [
    "x = torch.tensor([[1.0], [2.0]])\n",
    "model.forward(x)"
   ]
  },
  {
   "cell_type": "code",
   "execution_count": 6,
   "metadata": {},
   "outputs": [
    {
     "name": "stdout",
     "output_type": "stream",
     "text": [
      "Parameter containing:\n",
      "tensor([[0.5153]], requires_grad=True) Parameter containing:\n",
      "tensor([-0.4414], requires_grad=True)\n"
     ]
    }
   ],
   "source": [
    "[w, b] = model.parameters()\n",
    "print(w, b)\n",
    "\n",
    "def get_params():\n",
    "    return  (w[0][0].item(), b[0].item())"
   ]
  },
  {
   "cell_type": "code",
   "execution_count": 7,
   "metadata": {},
   "outputs": [],
   "source": [
    "def plot_fit(title):\n",
    "    plt.title = title\n",
    "    w1, b1 = get_params()\n",
    "    x1 = np.array([-30, 30])\n",
    "    y1 = w1*x1 + b1\n",
    "    plt.plot(x1, y1, 'r')\n",
    "    plt.scatter(X, y)\n",
    "    plt.show()"
   ]
  },
  {
   "cell_type": "code",
   "execution_count": 8,
   "metadata": {},
   "outputs": [
    {
     "data": {
      "image/png": "[encoded data removed]",
      "text/plain": [
       "<Figure size 432x288 with 1 Axes>"
      ]
     },
     "metadata": {
      "needs_background": "light"
     },
     "output_type": "display_data"
    }
   ],
   "source": [
    "plot_fit('Initial Model')"
   ]
  },
  {
   "cell_type": "code",
   "execution_count": 12,
   "metadata": {},
   "outputs": [],
   "source": [
    "criterion = nn.MSELoss()\n",
    "optimizer = torch.optim.SGD(model.parameters(), lr = 0.01)"
   ]
  },
  {
   "cell_type": "code",
   "execution_count": 13,
   "metadata": {},
   "outputs": [
    {
     "name": "stdout",
     "output_type": "stream",
     "text": [
      "epoch: 0 loss: 13932.4228515625\n",
      "epoch: 1 loss: 14839.99609375\n",
      "epoch: 2 loss: 15806.7021484375\n",
      "epoch: 3 loss: 16836.390625\n",
      "epoch: 4 loss: 17933.140625\n",
      "epoch: 5 loss: 19101.33984375\n",
      "epoch: 6 loss: 20345.6328125\n",
      "epoch: 7 loss: 21670.96484375\n",
      "epoch: 8 loss: 23082.677734375\n",
      "epoch: 9 loss: 24586.357421875\n",
      "epoch: 10 loss: 26187.9765625\n",
      "epoch: 11 loss: 27893.96484375\n",
      "epoch: 12 loss: 29711.05078125\n",
      "epoch: 13 loss: 31646.51953125\n",
      "epoch: 14 loss: 33708.1015625\n",
      "epoch: 15 loss: 35903.9375\n",
      "epoch: 16 loss: 38242.86328125\n",
      "epoch: 17 loss: 40734.15234375\n",
      "epoch: 18 loss: 43387.75390625\n",
      "epoch: 19 loss: 46214.19921875\n",
      "epoch: 20 loss: 49224.7109375\n",
      "epoch: 21 loss: 52431.375\n",
      "epoch: 22 loss: 55847.01171875\n",
      "epoch: 23 loss: 59485.109375\n",
      "epoch: 24 loss: 63360.265625\n",
      "epoch: 25 loss: 67487.8984375\n",
      "epoch: 26 loss: 71884.34375\n",
      "epoch: 27 loss: 76567.3125\n",
      "epoch: 28 loss: 81555.375\n",
      "epoch: 29 loss: 86868.2578125\n",
      "epoch: 30 loss: 92527.2421875\n",
      "epoch: 31 loss: 98554.8515625\n",
      "epoch: 32 loss: 104975.1171875\n",
      "epoch: 33 loss: 111813.7109375\n",
      "epoch: 34 loss: 119097.7109375\n",
      "epoch: 35 loss: 126856.34375\n",
      "epoch: 36 loss: 135120.421875\n",
      "epoch: 37 loss: 143922.765625\n",
      "epoch: 38 loss: 153298.515625\n",
      "epoch: 39 loss: 163285.078125\n",
      "epoch: 40 loss: 173922.234375\n",
      "epoch: 41 loss: 185252.40625\n",
      "epoch: 42 loss: 197320.796875\n",
      "epoch: 43 loss: 210175.453125\n",
      "epoch: 44 loss: 223867.15625\n",
      "epoch: 45 loss: 238451.0625\n",
      "epoch: 46 loss: 253985.15625\n",
      "epoch: 47 loss: 270531.15625\n",
      "epoch: 48 loss: 288154.875\n",
      "epoch: 49 loss: 306926.6875\n",
      "epoch: 50 loss: 326921.1875\n",
      "epoch: 51 loss: 348218.5625\n",
      "epoch: 52 loss: 370903.1875\n",
      "epoch: 53 loss: 395065.5625\n",
      "epoch: 54 loss: 420802.15625\n",
      "epoch: 55 loss: 448215.1875\n",
      "epoch: 56 loss: 477414.6875\n",
      "epoch: 57 loss: 508515.46875\n",
      "epoch: 58 loss: 541642.75\n",
      "epoch: 59 loss: 576928.0625\n",
      "epoch: 60 loss: 614512.375\n",
      "epoch: 61 loss: 654544.75\n",
      "epoch: 62 loss: 697185.125\n",
      "epoch: 63 loss: 742603.5\n",
      "epoch: 64 loss: 790980.8125\n",
      "epoch: 65 loss: 842509.625\n",
      "epoch: 66 loss: 897395.0625\n",
      "epoch: 67 loss: 955856.75\n",
      "epoch: 68 loss: 1018126.3125\n",
      "epoch: 69 loss: 1084451.75\n",
      "epoch: 70 loss: 1155099.25\n",
      "epoch: 71 loss: 1230349.875\n",
      "epoch: 72 loss: 1310501.625\n",
      "epoch: 73 loss: 1395874.375\n",
      "epoch: 74 loss: 1486809.0\n",
      "epoch: 75 loss: 1583665.0\n",
      "epoch: 76 loss: 1686834.125\n",
      "epoch: 77 loss: 1796722.75\n",
      "epoch: 78 loss: 1913769.0\n",
      "epoch: 79 loss: 2038443.0\n",
      "epoch: 80 loss: 2171238.0\n",
      "epoch: 81 loss: 2312684.5\n",
      "epoch: 82 loss: 2463344.25\n",
      "epoch: 83 loss: 2623820.25\n",
      "epoch: 84 loss: 2794750.0\n",
      "epoch: 85 loss: 2976813.0\n",
      "epoch: 86 loss: 3170736.0\n",
      "epoch: 87 loss: 3377297.25\n",
      "epoch: 88 loss: 3597309.0\n",
      "epoch: 89 loss: 3831655.0\n",
      "epoch: 90 loss: 4081270.0\n",
      "epoch: 91 loss: 4347145.5\n",
      "epoch: 92 loss: 4630343.5\n",
      "epoch: 93 loss: 4931986.0\n",
      "epoch: 94 loss: 5253285.0\n",
      "epoch: 95 loss: 5595508.5\n",
      "epoch: 96 loss: 5960023.5\n",
      "epoch: 97 loss: 6348289.5\n",
      "epoch: 98 loss: 6761845.0\n",
      "epoch: 99 loss: 7202356.0\n"
     ]
    }
   ],
   "source": [
    "epochs = 100 \n",
    "losses = [] \n",
    "\n",
    "for i in range(epochs):   \n",
    "   y_pred = model.forward(X)   \n",
    "   loss = criterion(y_pred, y)   \n",
    "   print(\"epoch:\", i, \"loss:\", loss.item())      \n",
    "   losses.append(loss)  \n",
    "   optimizer.zero_grad()   \n",
    "   loss.backward()   \n",
    "   optimizer.step()"
   ]
  },
  {
   "cell_type": "code",
   "execution_count": 14,
   "metadata": {},
   "outputs": [
    {
     "ename": "RuntimeError",
     "evalue": "Can't call numpy() on Tensor that requires grad. Use tensor.detach().numpy() instead.",
     "output_type": "error",
     "traceback": [
      "\u001b[1;31m---------------------------------------------------------------------------\u001b[0m",
      "\u001b[1;31mRuntimeError\u001b[0m                              Traceback (most recent call last)",
      "\u001b[1;32mf:\\pytorch\\Pytorch for deeplearning and computer vision\\section4\\Linear Regression 3.ipynb Cell 11'\u001b[0m in \u001b[0;36m<cell line: 1>\u001b[1;34m()\u001b[0m\n\u001b[1;32m----> <a href='vscode-notebook-cell:/f%3A/pytorch/Pytorch%20for%20deeplearning%20and%20computer%20vision/section4/Linear%20Regression%203.ipynb#ch0000010?line=0'>1</a>\u001b[0m plt\u001b[39m.\u001b[39;49mplot(\u001b[39mrange\u001b[39;49m(epochs), losses)\n\u001b[0;32m      <a href='vscode-notebook-cell:/f%3A/pytorch/Pytorch%20for%20deeplearning%20and%20computer%20vision/section4/Linear%20Regression%203.ipynb#ch0000010?line=1'>2</a>\u001b[0m plt\u001b[39m.\u001b[39mylabel(\u001b[39m\"\u001b[39m\u001b[39mLoss\u001b[39m\u001b[39m\"\u001b[39m)\n\u001b[0;32m      <a href='vscode-notebook-cell:/f%3A/pytorch/Pytorch%20for%20deeplearning%20and%20computer%20vision/section4/Linear%20Regression%203.ipynb#ch0000010?line=2'>3</a>\u001b[0m plt\u001b[39m.\u001b[39mxlabel(\u001b[39m\"\u001b[39m\u001b[39mepoch\u001b[39m\u001b[39m\"\u001b[39m)\n",
      "File \u001b[1;32m~\\anaconda3\\envs\\tf2.8\\lib\\site-packages\\matplotlib\\pyplot.py:2757\u001b[0m, in \u001b[0;36mplot\u001b[1;34m(scalex, scaley, data, *args, **kwargs)\u001b[0m\n\u001b[0;32m   <a href='file:///c%3A/Users/rjsdu/anaconda3/envs/tf2.8/lib/site-packages/matplotlib/pyplot.py?line=2754'>2755</a>\u001b[0m \u001b[39m@_copy_docstring_and_deprecators\u001b[39m(Axes\u001b[39m.\u001b[39mplot)\n\u001b[0;32m   <a href='file:///c%3A/Users/rjsdu/anaconda3/envs/tf2.8/lib/site-packages/matplotlib/pyplot.py?line=2755'>2756</a>\u001b[0m \u001b[39mdef\u001b[39;00m \u001b[39mplot\u001b[39m(\u001b[39m*\u001b[39margs, scalex\u001b[39m=\u001b[39m\u001b[39mTrue\u001b[39;00m, scaley\u001b[39m=\u001b[39m\u001b[39mTrue\u001b[39;00m, data\u001b[39m=\u001b[39m\u001b[39mNone\u001b[39;00m, \u001b[39m*\u001b[39m\u001b[39m*\u001b[39mkwargs):\n\u001b[1;32m-> <a href='file:///c%3A/Users/rjsdu/anaconda3/envs/tf2.8/lib/site-packages/matplotlib/pyplot.py?line=2756'>2757</a>\u001b[0m     \u001b[39mreturn\u001b[39;00m gca()\u001b[39m.\u001b[39mplot(\n\u001b[0;32m   <a href='file:///c%3A/Users/rjsdu/anaconda3/envs/tf2.8/lib/site-packages/matplotlib/pyplot.py?line=2757'>2758</a>\u001b[0m         \u001b[39m*\u001b[39margs, scalex\u001b[39m=\u001b[39mscalex, scaley\u001b[39m=\u001b[39mscaley,\n\u001b[0;32m   <a href='file:///c%3A/Users/rjsdu/anaconda3/envs/tf2.8/lib/site-packages/matplotlib/pyplot.py?line=2758'>2759</a>\u001b[0m         \u001b[39m*\u001b[39m\u001b[39m*\u001b[39m({\u001b[39m\"\u001b[39m\u001b[39mdata\u001b[39m\u001b[39m\"\u001b[39m: data} \u001b[39mif\u001b[39;00m data \u001b[39mis\u001b[39;00m \u001b[39mnot\u001b[39;00m \u001b[39mNone\u001b[39;00m \u001b[39melse\u001b[39;00m {}), \u001b[39m*\u001b[39m\u001b[39m*\u001b[39mkwargs)\n",
      "File \u001b[1;32m~\\anaconda3\\envs\\tf2.8\\lib\\site-packages\\matplotlib\\axes\\_axes.py:1632\u001b[0m, in \u001b[0;36mAxes.plot\u001b[1;34m(self, scalex, scaley, data, *args, **kwargs)\u001b[0m\n\u001b[0;32m   <a href='file:///c%3A/Users/rjsdu/anaconda3/envs/tf2.8/lib/site-packages/matplotlib/axes/_axes.py?line=1389'>1390</a>\u001b[0m \u001b[39m\"\"\"\u001b[39;00m\n\u001b[0;32m   <a href='file:///c%3A/Users/rjsdu/anaconda3/envs/tf2.8/lib/site-packages/matplotlib/axes/_axes.py?line=1390'>1391</a>\u001b[0m \u001b[39mPlot y versus x as lines and/or markers.\u001b[39;00m\n\u001b[0;32m   <a href='file:///c%3A/Users/rjsdu/anaconda3/envs/tf2.8/lib/site-packages/matplotlib/axes/_axes.py?line=1391'>1392</a>\u001b[0m \n\u001b[1;32m   (...)\u001b[0m\n\u001b[0;32m   <a href='file:///c%3A/Users/rjsdu/anaconda3/envs/tf2.8/lib/site-packages/matplotlib/axes/_axes.py?line=1628'>1629</a>\u001b[0m \u001b[39m(``'green'``) or hex strings (``'#008000'``).\u001b[39;00m\n\u001b[0;32m   <a href='file:///c%3A/Users/rjsdu/anaconda3/envs/tf2.8/lib/site-packages/matplotlib/axes/_axes.py?line=1629'>1630</a>\u001b[0m \u001b[39m\"\"\"\u001b[39;00m\n\u001b[0;32m   <a href='file:///c%3A/Users/rjsdu/anaconda3/envs/tf2.8/lib/site-packages/matplotlib/axes/_axes.py?line=1630'>1631</a>\u001b[0m kwargs \u001b[39m=\u001b[39m cbook\u001b[39m.\u001b[39mnormalize_kwargs(kwargs, mlines\u001b[39m.\u001b[39mLine2D)\n\u001b[1;32m-> <a href='file:///c%3A/Users/rjsdu/anaconda3/envs/tf2.8/lib/site-packages/matplotlib/axes/_axes.py?line=1631'>1632</a>\u001b[0m lines \u001b[39m=\u001b[39m [\u001b[39m*\u001b[39m\u001b[39mself\u001b[39m\u001b[39m.\u001b[39m_get_lines(\u001b[39m*\u001b[39margs, data\u001b[39m=\u001b[39mdata, \u001b[39m*\u001b[39m\u001b[39m*\u001b[39mkwargs)]\n\u001b[0;32m   <a href='file:///c%3A/Users/rjsdu/anaconda3/envs/tf2.8/lib/site-packages/matplotlib/axes/_axes.py?line=1632'>1633</a>\u001b[0m \u001b[39mfor\u001b[39;00m line \u001b[39min\u001b[39;00m lines:\n\u001b[0;32m   <a href='file:///c%3A/Users/rjsdu/anaconda3/envs/tf2.8/lib/site-packages/matplotlib/axes/_axes.py?line=1633'>1634</a>\u001b[0m     \u001b[39mself\u001b[39m\u001b[39m.\u001b[39madd_line(line)\n",
      "File \u001b[1;32m~\\anaconda3\\envs\\tf2.8\\lib\\site-packages\\matplotlib\\axes\\_base.py:312\u001b[0m, in \u001b[0;36m_process_plot_var_args.__call__\u001b[1;34m(self, data, *args, **kwargs)\u001b[0m\n\u001b[0;32m    <a href='file:///c%3A/Users/rjsdu/anaconda3/envs/tf2.8/lib/site-packages/matplotlib/axes/_base.py?line=309'>310</a>\u001b[0m     this \u001b[39m+\u001b[39m\u001b[39m=\u001b[39m args[\u001b[39m0\u001b[39m],\n\u001b[0;32m    <a href='file:///c%3A/Users/rjsdu/anaconda3/envs/tf2.8/lib/site-packages/matplotlib/axes/_base.py?line=310'>311</a>\u001b[0m     args \u001b[39m=\u001b[39m args[\u001b[39m1\u001b[39m:]\n\u001b[1;32m--> <a href='file:///c%3A/Users/rjsdu/anaconda3/envs/tf2.8/lib/site-packages/matplotlib/axes/_base.py?line=311'>312</a>\u001b[0m \u001b[39myield from\u001b[39;00m \u001b[39mself\u001b[39;49m\u001b[39m.\u001b[39;49m_plot_args(this, kwargs)\n",
      "File \u001b[1;32m~\\anaconda3\\envs\\tf2.8\\lib\\site-packages\\matplotlib\\axes\\_base.py:488\u001b[0m, in \u001b[0;36m_process_plot_var_args._plot_args\u001b[1;34m(self, tup, kwargs, return_kwargs)\u001b[0m\n\u001b[0;32m    <a href='file:///c%3A/Users/rjsdu/anaconda3/envs/tf2.8/lib/site-packages/matplotlib/axes/_base.py?line=485'>486</a>\u001b[0m \u001b[39mif\u001b[39;00m \u001b[39mlen\u001b[39m(xy) \u001b[39m==\u001b[39m \u001b[39m2\u001b[39m:\n\u001b[0;32m    <a href='file:///c%3A/Users/rjsdu/anaconda3/envs/tf2.8/lib/site-packages/matplotlib/axes/_base.py?line=486'>487</a>\u001b[0m     x \u001b[39m=\u001b[39m _check_1d(xy[\u001b[39m0\u001b[39m])\n\u001b[1;32m--> <a href='file:///c%3A/Users/rjsdu/anaconda3/envs/tf2.8/lib/site-packages/matplotlib/axes/_base.py?line=487'>488</a>\u001b[0m     y \u001b[39m=\u001b[39m _check_1d(xy[\u001b[39m1\u001b[39;49m])\n\u001b[0;32m    <a href='file:///c%3A/Users/rjsdu/anaconda3/envs/tf2.8/lib/site-packages/matplotlib/axes/_base.py?line=488'>489</a>\u001b[0m \u001b[39melse\u001b[39;00m:\n\u001b[0;32m    <a href='file:///c%3A/Users/rjsdu/anaconda3/envs/tf2.8/lib/site-packages/matplotlib/axes/_base.py?line=489'>490</a>\u001b[0m     x, y \u001b[39m=\u001b[39m index_of(xy[\u001b[39m-\u001b[39m\u001b[39m1\u001b[39m])\n",
      "File \u001b[1;32m~\\anaconda3\\envs\\tf2.8\\lib\\site-packages\\matplotlib\\cbook\\__init__.py:1304\u001b[0m, in \u001b[0;36m_check_1d\u001b[1;34m(x)\u001b[0m\n\u001b[0;32m   <a href='file:///c%3A/Users/rjsdu/anaconda3/envs/tf2.8/lib/site-packages/matplotlib/cbook/__init__.py?line=1301'>1302</a>\u001b[0m \u001b[39m\"\"\"Convert scalars to 1D arrays; pass-through arrays as is.\"\"\"\u001b[39;00m\n\u001b[0;32m   <a href='file:///c%3A/Users/rjsdu/anaconda3/envs/tf2.8/lib/site-packages/matplotlib/cbook/__init__.py?line=1302'>1303</a>\u001b[0m \u001b[39mif\u001b[39;00m \u001b[39mnot\u001b[39;00m \u001b[39mhasattr\u001b[39m(x, \u001b[39m'\u001b[39m\u001b[39mshape\u001b[39m\u001b[39m'\u001b[39m) \u001b[39mor\u001b[39;00m \u001b[39mlen\u001b[39m(x\u001b[39m.\u001b[39mshape) \u001b[39m<\u001b[39m \u001b[39m1\u001b[39m:\n\u001b[1;32m-> <a href='file:///c%3A/Users/rjsdu/anaconda3/envs/tf2.8/lib/site-packages/matplotlib/cbook/__init__.py?line=1303'>1304</a>\u001b[0m     \u001b[39mreturn\u001b[39;00m np\u001b[39m.\u001b[39;49matleast_1d(x)\n\u001b[0;32m   <a href='file:///c%3A/Users/rjsdu/anaconda3/envs/tf2.8/lib/site-packages/matplotlib/cbook/__init__.py?line=1304'>1305</a>\u001b[0m \u001b[39melse\u001b[39;00m:\n\u001b[0;32m   <a href='file:///c%3A/Users/rjsdu/anaconda3/envs/tf2.8/lib/site-packages/matplotlib/cbook/__init__.py?line=1305'>1306</a>\u001b[0m     \u001b[39mtry\u001b[39;00m:\n\u001b[0;32m   <a href='file:///c%3A/Users/rjsdu/anaconda3/envs/tf2.8/lib/site-packages/matplotlib/cbook/__init__.py?line=1306'>1307</a>\u001b[0m         \u001b[39m# work around\u001b[39;00m\n\u001b[0;32m   <a href='file:///c%3A/Users/rjsdu/anaconda3/envs/tf2.8/lib/site-packages/matplotlib/cbook/__init__.py?line=1307'>1308</a>\u001b[0m         \u001b[39m# https://github.com/pandas-dev/pandas/issues/27775 which\u001b[39;00m\n\u001b[1;32m   (...)\u001b[0m\n\u001b[0;32m   <a href='file:///c%3A/Users/rjsdu/anaconda3/envs/tf2.8/lib/site-packages/matplotlib/cbook/__init__.py?line=1318'>1319</a>\u001b[0m         \u001b[39m# This code should correctly identify and coerce to a\u001b[39;00m\n\u001b[0;32m   <a href='file:///c%3A/Users/rjsdu/anaconda3/envs/tf2.8/lib/site-packages/matplotlib/cbook/__init__.py?line=1319'>1320</a>\u001b[0m         \u001b[39m# numpy array all pandas versions.\u001b[39;00m\n",
      "File \u001b[1;32m<__array_function__ internals>:180\u001b[0m, in \u001b[0;36matleast_1d\u001b[1;34m(*args, **kwargs)\u001b[0m\n",
      "File \u001b[1;32m~\\anaconda3\\envs\\tf2.8\\lib\\site-packages\\numpy\\core\\shape_base.py:65\u001b[0m, in \u001b[0;36matleast_1d\u001b[1;34m(*arys)\u001b[0m\n\u001b[0;32m     <a href='file:///c%3A/Users/rjsdu/anaconda3/envs/tf2.8/lib/site-packages/numpy/core/shape_base.py?line=62'>63</a>\u001b[0m res \u001b[39m=\u001b[39m []\n\u001b[0;32m     <a href='file:///c%3A/Users/rjsdu/anaconda3/envs/tf2.8/lib/site-packages/numpy/core/shape_base.py?line=63'>64</a>\u001b[0m \u001b[39mfor\u001b[39;00m ary \u001b[39min\u001b[39;00m arys:\n\u001b[1;32m---> <a href='file:///c%3A/Users/rjsdu/anaconda3/envs/tf2.8/lib/site-packages/numpy/core/shape_base.py?line=64'>65</a>\u001b[0m     ary \u001b[39m=\u001b[39m asanyarray(ary)\n\u001b[0;32m     <a href='file:///c%3A/Users/rjsdu/anaconda3/envs/tf2.8/lib/site-packages/numpy/core/shape_base.py?line=65'>66</a>\u001b[0m     \u001b[39mif\u001b[39;00m ary\u001b[39m.\u001b[39mndim \u001b[39m==\u001b[39m \u001b[39m0\u001b[39m:\n\u001b[0;32m     <a href='file:///c%3A/Users/rjsdu/anaconda3/envs/tf2.8/lib/site-packages/numpy/core/shape_base.py?line=66'>67</a>\u001b[0m         result \u001b[39m=\u001b[39m ary\u001b[39m.\u001b[39mreshape(\u001b[39m1\u001b[39m)\n",
      "File \u001b[1;32m~\\anaconda3\\envs\\tf2.8\\lib\\site-packages\\torch\\_tensor.py:643\u001b[0m, in \u001b[0;36mTensor.__array__\u001b[1;34m(self, dtype)\u001b[0m\n\u001b[0;32m    <a href='file:///c%3A/Users/rjsdu/anaconda3/envs/tf2.8/lib/site-packages/torch/_tensor.py?line=640'>641</a>\u001b[0m     \u001b[39mreturn\u001b[39;00m handle_torch_function(Tensor\u001b[39m.\u001b[39m__array__, (\u001b[39mself\u001b[39m,), \u001b[39mself\u001b[39m, dtype\u001b[39m=\u001b[39mdtype)\n\u001b[0;32m    <a href='file:///c%3A/Users/rjsdu/anaconda3/envs/tf2.8/lib/site-packages/torch/_tensor.py?line=641'>642</a>\u001b[0m \u001b[39mif\u001b[39;00m dtype \u001b[39mis\u001b[39;00m \u001b[39mNone\u001b[39;00m:\n\u001b[1;32m--> <a href='file:///c%3A/Users/rjsdu/anaconda3/envs/tf2.8/lib/site-packages/torch/_tensor.py?line=642'>643</a>\u001b[0m     \u001b[39mreturn\u001b[39;00m \u001b[39mself\u001b[39;49m\u001b[39m.\u001b[39;49mnumpy()\n\u001b[0;32m    <a href='file:///c%3A/Users/rjsdu/anaconda3/envs/tf2.8/lib/site-packages/torch/_tensor.py?line=643'>644</a>\u001b[0m \u001b[39melse\u001b[39;00m:\n\u001b[0;32m    <a href='file:///c%3A/Users/rjsdu/anaconda3/envs/tf2.8/lib/site-packages/torch/_tensor.py?line=644'>645</a>\u001b[0m     \u001b[39mreturn\u001b[39;00m \u001b[39mself\u001b[39m\u001b[39m.\u001b[39mnumpy()\u001b[39m.\u001b[39mastype(dtype, copy\u001b[39m=\u001b[39m\u001b[39mFalse\u001b[39;00m)\n",
      "\u001b[1;31mRuntimeError\u001b[0m: Can't call numpy() on Tensor that requires grad. Use tensor.detach().numpy() instead."
     ]
    },
    {
     "data": {
      "image/png": "[encoded data removed]",
      "text/plain": [
       "<Figure size 432x288 with 1 Axes>"
      ]
     },
     "metadata": {
      "needs_background": "light"
     },
     "output_type": "display_data"
    }
   ],
   "source": [
    "plt.plot(range(epochs), losses)\n",
    "plt.ylabel(\"Loss\")\n",
    "plt.xlabel(\"epoch\")"
   ]
  },
  {
   "cell_type": "code",
   "execution_count": null,
   "metadata": {},
   "outputs": [
    {
     "data": {
      "image/png": "[encoded data removed]",
      "text/plain": [
       "<Figure size 432x288 with 1 Axes>"
      ]
     },
     "metadata": {
      "needs_background": "light"
     },
     "output_type": "display_data"
    }
   ],
   "source": [
    "plot_fit(\"Trained Model\")"
   ]
  }
 ],
 "metadata": {
  "interpreter": {
   "hash": "c200132d1e6ad0d08ee4f5a6aa73cd3fb0821d2e05edf12ce927a5bc1afafe0a"
  },
  "kernelspec": {
   "display_name": "Python 3.9.7 ('tf2.8')",
   "language": "python",
   "name": "python3"
  },
  "language_info": {
   "codemirror_mode": {
    "name": "ipython",
    "version": 3
   },
   "file_extension": ".py",
   "mimetype": "text/x-python",
   "name": "python",
   "nbconvert_exporter": "python",
   "pygments_lexer": "ipython3",
   "version": "3.9.7"
  },
  "orig_nbformat": 4
 },
 "nbformat": 4,
 "nbformat_minor": 2
}
