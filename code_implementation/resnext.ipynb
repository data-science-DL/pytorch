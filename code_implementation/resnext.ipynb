{
 "cells": [
  {
   "cell_type": "code",
   "execution_count": 1,
   "metadata": {},
   "outputs": [],
   "source": [
    "# 출처 : https://github.com/weiaicunzai/pytorch-cifar100/blob/master/models/resnext.py"
   ]
  },
  {
   "cell_type": "code",
   "execution_count": 2,
   "metadata": {},
   "outputs": [],
   "source": [
    "import math\n",
    "import torch\n",
    "import torch.nn as nn\n",
    "import torch.nn.functional as F"
   ]
  },
  {
   "cell_type": "code",
   "execution_count": 3,
   "metadata": {},
   "outputs": [],
   "source": [
    "cardinality = 32 # path를 결정하는 변환 그룹의 크기\n",
    "depth = 4 # 각 그룹 당 가지고 있는 채널 수\n",
    "base_width = 64 # 기초 채널 수\n",
    "\n",
    "# 그림 3의 (c)의 grouped convolution 레이어는 입출력 채널이 4차원인 32개의 컨볼루션 그룹(=cardinality)을 형성한다.\n",
    "# grouped convolution은 그 그룹을 레이어의 출력으로 concatenate한다.\n",
    "class ResNextBottleNeck(nn.Module):\n",
    "    # __init__는 클래스 내의 생성자라 불리고 초기화를 위한 함수이다.\n",
    "    # self는 인스턴스 자신이다.\n",
    "    # 인자는 in_channels, out_channels, stride를 받는다.\n",
    "    def __init__(self, in_channels, out_channels, stride):\n",
    "         # super(모델명, self).__init__() 형태로 호출\n",
    "        super().__init__()\n",
    "\n",
    "        groups = cardinality # 특징 맵(feature map)이 분할된 그룹 수\n",
    "\n",
    "        num_depth = int(depth * out_channels / base_width) # 그룹당 채널 수(depth per group)\n",
    "        self.split_transform = nn.Sequential(\n",
    "            nn.Conv2d(in_channels, groups * num_depth, kernel_size=1, groups=groups, bias=False),\n",
    "            nn.BatchNorm2d(groups * num_depth),\n",
    "            nn.ReLU(),\n",
    "            nn.Conv2d(groups * num_depth, groups * num_depth, kernel_size=3, stride=stride, groups=groups, padding=1, bias=False),\n",
    "            nn.BatchNorm2d(groups * num_depth),\n",
    "            nn.ReLU(),\n",
    "            nn.Conv2d(groups * num_depth, out_channels * 4, kernel_size=1, bias=False),\n",
    "            nn.BatchNorm2d(out_channels * 4),\n",
    "        )\n",
    "\n",
    "        self.shortcut = nn.Sequential()\n",
    "\n",
    "        if stride != 1 or in_channels != out_channels * 4:\n",
    "            self.shortcut = nn.Sequential(\n",
    "                nn.Conv2d(in_channels, out_channels * 4, stride=stride, kernel_size=1, bias=False),\n",
    "                nn.BatchNorm2d(out_channels * 4)\n",
    "            )\n",
    "\n",
    "    def forward(self, x):\n",
    "        return F.relu(self.split_transform(x) + self.shortcut(x))"
   ]
  },
  {
   "cell_type": "code",
   "execution_count": 4,
   "metadata": {},
   "outputs": [],
   "source": [
    "class ResNext(nn.Module):\n",
    "\n",
    "    def __init__(self, block, num_blocks, class_names=1000):\n",
    "        super().__init__()\n",
    "        self.in_channels = 64\n",
    "\n",
    "        self.conv1 = nn.Sequential(\n",
    "            nn.Conv2d(3, 64, 3, stride=1, padding=1, bias=False),\n",
    "            nn.BatchNorm2d(64),\n",
    "            nn.ReLU()\n",
    "        )\n",
    "\n",
    "        self.conv2 = self._make_layer(block, num_blocks[0], 64, 1)\n",
    "        self.conv3 = self._make_layer(block, num_blocks[1], 128, 2)\n",
    "        self.conv4 = self._make_layer(block, num_blocks[2], 256, 2)\n",
    "        self.conv5 = self._make_layer(block, num_blocks[3], 512, 2)\n",
    "        self.avg = nn.AdaptiveAvgPool2d((1, 1))\n",
    "        self.fc = nn.Linear(512 * 4, 100)\n",
    "\n",
    "    def forward(self, x):\n",
    "        x = self.conv1(x)\n",
    "        x = self.conv2(x)\n",
    "        x = self.conv3(x)\n",
    "        x = self.conv4(x)\n",
    "        x = self.conv5(x)\n",
    "        x = self.avg(x)\n",
    "        x = x.view(x.size(0), -1)\n",
    "        x = self.fc(x)\n",
    "        return x\n",
    "\n",
    "    # _make_layer에서 resnext block  생성\n",
    "    # block: 블록 유형(default resnext bottleneck c)\n",
    "    # num_block: 레이어당 블록수\n",
    "    # out_channels: 블록당 출력 채널 수\n",
    "    # stride: 블록 stride\n",
    "    # return : resnext 레이어\n",
    "    def _make_layer(self, block, num_block, out_channels, stride):\n",
    "        strides = [stride] + [1] * (num_block - 1)\n",
    "        layers = []\n",
    "        for stride in strides:\n",
    "            layers.append(block(self.in_channels, out_channels, stride))\n",
    "            self.in_channels = out_channels * 4\n",
    "\n",
    "        return nn.Sequential(*layers)"
   ]
  },
  {
   "cell_type": "code",
   "execution_count": 5,
   "metadata": {},
   "outputs": [],
   "source": [
    "# Resnet과 형태는 똑같다.\n",
    "def resnext50():\n",
    "    return ResNext(ResNextBottleNeck, [3, 4, 6, 3])\n",
    "\n",
    "def resnext101():\n",
    "    return ResNext(ResNextBottleNeck, [3, 4, 23, 3])\n",
    "\n",
    "def resnext152():\n",
    "    return ResNext(ResNextBottleNeck, [3, 4, 36, 3])"
   ]
  }
 ],
 "metadata": {
  "interpreter": {
   "hash": "c200132d1e6ad0d08ee4f5a6aa73cd3fb0821d2e05edf12ce927a5bc1afafe0a"
  },
  "kernelspec": {
   "display_name": "Python 3.9.7 ('tf2.8')",
   "language": "python",
   "name": "python3"
  },
  "language_info": {
   "codemirror_mode": {
    "name": "ipython",
    "version": 3
   },
   "file_extension": ".py",
   "mimetype": "text/x-python",
   "name": "python",
   "nbconvert_exporter": "python",
   "pygments_lexer": "ipython3",
   "version": "3.9.12"
  },
  "orig_nbformat": 4
 },
 "nbformat": 4,
 "nbformat_minor": 2
}
