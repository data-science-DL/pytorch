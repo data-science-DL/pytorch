{
  "cells": [
    {
      "cell_type": "code",
      "execution_count": 1,
      "metadata": {
        "id": "btVG8Bhv0iPR"
      },
      "outputs": [],
      "source": [
        "# https://www.kaggle.com/code/tiiktak/fashion-mnist-with-alexnet-in-pytorch-92-accuracy/notebook"
      ]
    },
    {
      "cell_type": "code",
      "execution_count": 2,
      "metadata": {
        "id": "NtamfbiX0iPT"
      },
      "outputs": [],
      "source": [
        "# nn.Linear(28*28, 512) = w < R^(784x512)\n",
        "\n",
        "import os\n",
        "import torch\n",
        "import torchvision\n",
        "import numpy as np\n",
        "import pandas as pd\n",
        "import torch.nn as nn\n",
        "import torch.optim as optim\n",
        "import matplotlib.pyplot as plt\n",
        "import torch.nn.functional as F\n",
        "from PIL import Image\n",
        "from torchvision import transforms, datasets\n",
        "from torch.utils.data import Dataset, DataLoader\n"
      ]
    },
    {
      "cell_type": "code",
      "execution_count": 3,
      "metadata": {
        "id": "bGcI24cu0iPV",
        "outputId": "c30a31a9-69a3-48d5-eb47-b8e2bce87969",
        "colab": {
          "base_uri": "https://localhost:8080/"
        }
      },
      "outputs": [
        {
          "output_type": "stream",
          "name": "stdout",
          "text": [
            "1.10.0+cu111\n",
            "cuda\n"
          ]
        }
      ],
      "source": [
        "# training batches of our network\n",
        "epochs = 10\n",
        "# size of each batch\n",
        "batch_size = 512\n",
        "\n",
        "device = (\"cuda\" if torch.cuda.is_available() else \"cpu\")\n",
        "class_names = ['T-shirt/top', 'Trouser', 'Pullover', 'Dress', 'Coat',\n",
        "               'Sandal', 'Shirt', 'Sneaker', 'Bag', 'Ankle boot']\n",
        "\n",
        "print(torch.__version__)\n",
        "print(device)"
      ]
    },
    {
      "cell_type": "code",
      "execution_count": 4,
      "metadata": {
        "id": "H5PI0R680iPV"
      },
      "outputs": [],
      "source": [
        "# prepare datasets\n",
        "from torchvision.transforms import ToTensor\n",
        "\n",
        "transform = transforms.Compose([transforms.Resize(227), ToTensor()]) # 227x227 : input image but fashionMNIST's input image : 28x28\n",
        "training_data = datasets.FashionMNIST(\n",
        "    root=\"data\",\n",
        "    train=True,\n",
        "    download=True,\n",
        "    transform=transform\n",
        ")\n",
        "\n",
        "validation_data = datasets.FashionMNIST(\n",
        "    root=\"data\",\n",
        "    train=False,\n",
        "    download=True,\n",
        "    transform=transform\n",
        ")\n"
      ]
    },
    {
      "cell_type": "code",
      "execution_count": 5,
      "metadata": {
        "id": "GP_dalyM0iPY"
      },
      "outputs": [],
      "source": [
        "from torch.utils.data import DataLoader\n",
        "\n",
        "training_loader = DataLoader(training_data, batch_size=64, shuffle=True)\n",
        "validation_loader = DataLoader(validation_data, batch_size=64, shuffle=True)"
      ]
    },
    {
      "cell_type": "code",
      "execution_count": 6,
      "metadata": {
        "id": "kCWsHIIs0iPa",
        "outputId": "f2911438-052f-40aa-b6d1-3e02f49ad3b1",
        "colab": {
          "base_uri": "https://localhost:8080/",
          "height": 288
        }
      },
      "outputs": [
        {
          "output_type": "stream",
          "name": "stdout",
          "text": [
            "Sandal\n"
          ]
        },
        {
          "output_type": "display_data",
          "data": {
            "text/plain": [
              "<Figure size 432x288 with 1 Axes>"
            ],
            "image/png": "[encoded data removed]"
          },
          "metadata": {
            "needs_background": "light"
          }
        }
      ],
      "source": [
        "# helper function to show an image\n",
        "def matplotlib_imshow(img):\n",
        "    img = img.mean(dim=0)\n",
        "    img = img / 2 + 0.5\n",
        "    npimg = img.numpy()\n",
        "    plt.imshow(npimg, cmap=\"Greys\")\n",
        "    \n",
        "# get some random training images\n",
        "dataiter = iter(training_loader)\n",
        "images, labels = dataiter.next()\n",
        "\n",
        "# create grid of images\n",
        "img_grid = torchvision.utils.make_grid(images[0])\n",
        "\n",
        "# show images & labels\n",
        "matplotlib_imshow(img_grid)\n",
        "print(class_names[labels[0]])"
      ]
    },
    {
      "cell_type": "code",
      "execution_count": 7,
      "metadata": {
        "id": "W0tfIsVr0iPb"
      },
      "outputs": [],
      "source": [
        "class fashion_mnist_alexnet(nn.Module):\n",
        "    def __init__(self):\n",
        "        super().__init__()\n",
        "        self.conv1 = nn.Sequential( # x < R^(227x227x1)  | w1 < R^(11x11x1x96) == 55(which means (227-11)/4)x55x96\n",
        "            nn.Conv2d(in_channels=1, out_channels=96, kernel_size=11, stride=4, padding=0),\n",
        "            nn.ReLU(),\n",
        "            nn.MaxPool2d(kernel_size=3, stride=2) # (55-3+1)/2 = 26.5 = 27\n",
        "        )\n",
        "        self.conv2 = nn.Sequential(\n",
        "            nn.Conv2d(96, 256, 5, 1, 2),\n",
        "            nn.ReLU(),\n",
        "            nn.MaxPool2d(3, 2)\n",
        "        )\n",
        "        self.conv3 = nn.Sequential(\n",
        "            nn.Conv2d(256, 384, 3, 1, 1),\n",
        "            nn.ReLU()\n",
        "        )\n",
        "        self.conv4 = nn.Sequential(\n",
        "            nn.Conv2d(384, 384, 3, 1, 1),\n",
        "            nn.ReLU()\n",
        "        )\n",
        "        self.conv5 = nn.Sequential(\n",
        "            nn.Conv2d(384, 256, 3, 1, 1),\n",
        "            nn.ReLU(),\n",
        "            nn.MaxPool2d(3, 2)\n",
        "        )\n",
        "        \n",
        "        self.fc1 = nn.Linear(256 * 6 * 6, 4096)\n",
        "        self.fc2 = nn.Linear(4096, 4096)\n",
        "        self.fc3 = nn.Linear(4096, 10)\n",
        "\n",
        "    def forward(self, x):\n",
        "        out = self.conv1(x)\n",
        "        out = self.conv2(out)\n",
        "        out = self.conv3(out)\n",
        "        out = self.conv4(out)\n",
        "        out = self.conv5(out) # 64x4096x1x1\n",
        "        out = out.view(out.size(0), -1) # 64x4096\n",
        "        \n",
        "        out = F.relu(self.fc1(out))\n",
        "        out = F.dropout(out, 0.5)\n",
        "        out = F.relu(self.fc2(out))\n",
        "        out = F.dropout(out, 0.5)\n",
        "        out = self.fc3(out)\n",
        "        out = F.log_softmax(out, dim=1)\n",
        "        \n",
        "        return out\n",
        "        "
      ]
    },
    {
      "cell_type": "code",
      "execution_count": 8,
      "metadata": {
        "id": "E85Vgtp10iPd"
      },
      "outputs": [],
      "source": [
        "model = fashion_mnist_alexnet().to(device)\n",
        "criterion = F.nll_loss\n",
        "optimizer = optim.Adam(model.parameters())"
      ]
    },
    {
      "cell_type": "code",
      "source": [
        "from torchsummary import summary as summary_\n",
        "\n",
        "summary_(model, (1,227,227), batch_size)"
      ],
      "metadata": {
        "id": "VrBL396BB51S",
        "outputId": "08b898e2-981b-4f4d-a241-23fe0d48709c",
        "colab": {
          "base_uri": "https://localhost:8080/"
        }
      },
      "execution_count": 9,
      "outputs": [
        {
          "output_type": "stream",
          "name": "stdout",
          "text": [
            "----------------------------------------------------------------\n",
            "        Layer (type)               Output Shape         Param #\n",
            "================================================================\n",
            "            Conv2d-1          [512, 96, 55, 55]          11,712\n",
            "              ReLU-2          [512, 96, 55, 55]               0\n",
            "         MaxPool2d-3          [512, 96, 27, 27]               0\n",
            "            Conv2d-4         [512, 256, 27, 27]         614,656\n",
            "              ReLU-5         [512, 256, 27, 27]               0\n",
            "         MaxPool2d-6         [512, 256, 13, 13]               0\n",
            "            Conv2d-7         [512, 384, 13, 13]         885,120\n",
            "              ReLU-8         [512, 384, 13, 13]               0\n",
            "            Conv2d-9         [512, 384, 13, 13]       1,327,488\n",
            "             ReLU-10         [512, 384, 13, 13]               0\n",
            "           Conv2d-11         [512, 256, 13, 13]         884,992\n",
            "             ReLU-12         [512, 256, 13, 13]               0\n",
            "        MaxPool2d-13           [512, 256, 6, 6]               0\n",
            "           Linear-14                [512, 4096]      37,752,832\n",
            "           Linear-15                [512, 4096]      16,781,312\n",
            "           Linear-16                  [512, 10]          40,970\n",
            "================================================================\n",
            "Total params: 58,299,082\n",
            "Trainable params: 58,299,082\n",
            "Non-trainable params: 0\n",
            "----------------------------------------------------------------\n",
            "Input size (MB): 100.64\n",
            "Forward/backward pass size (MB): 5589.16\n",
            "Params size (MB): 222.39\n",
            "Estimated Total Size (MB): 5912.20\n",
            "----------------------------------------------------------------\n"
          ]
        }
      ]
    },
    {
      "cell_type": "code",
      "execution_count": 10,
      "metadata": {
        "id": "67xvFkaM0iPd"
      },
      "outputs": [],
      "source": [
        "# def train(model, device, train_loader, optimizer, epoch):\n",
        "#     model.train()\n",
        "#     for batch_idx, (data, target) in enumerate(train_loader):\n",
        "#         target = target.type(torch.LongTensor)\n",
        "#         data, target = data.to(device), target.to(device)\n",
        "#         optimizer.zero_grad()\n",
        "#         output = model(data)\n",
        "#         loss = criterion(output, target) # criterion = MEA or MSE\n",
        "#         loss.backward()\n",
        "#         optimizer.step()\n",
        "#         if (batch_idx + 1) % 50 == 0:\n",
        "#             print(\"Train Epoch:{} [{}/{} ({:/0f}%)]\\tLoss: {:.6f}\".format(\n",
        "#                 epoch, batch_idx * len(data), len(train_loader.dataset),\n",
        "#                 100. * batch_idx / len(train_loader), loss.item()\n",
        "#             ))"
      ]
    },
    {
      "cell_type": "code",
      "execution_count": 11,
      "metadata": {
        "id": "nSv0mw3S0iPf"
      },
      "outputs": [],
      "source": [
        "def train(model, device, train_loader, optimizer, epoch):\n",
        "    model.train()\n",
        "    for batch_idx, (data, target) in enumerate(train_loader):\n",
        "        target = target.type(torch.LongTensor)\n",
        "        data, target = data.to(device), target.to(device)\n",
        "        optimizer.zero_grad()\n",
        "        output = model(data)\n",
        "        loss = criterion(output, target)\n",
        "        loss.backward()\n",
        "        optimizer.step()\n",
        "        if (batch_idx + 1) % 30 == 0:\n",
        "            print(\"Train Epoch:{} [{}/{} ({:.0f}%)]\\tLoss: {:.6f}\".format(\n",
        "                epoch, batch_idx * len(data), len(train_loader.dataset),\n",
        "                100. * batch_idx / len(train_loader), loss.item()))"
      ]
    },
    {
      "cell_type": "code",
      "execution_count": 12,
      "metadata": {
        "id": "zrknYcxS0iPf"
      },
      "outputs": [],
      "source": [
        "# def test(model, device, test_loader):\n",
        "#     model.eval()\n",
        "#     test_loss = 0\n",
        "#     correct = 0\n",
        "#     with torch.no_grad():\n",
        "#         for data, target in test_loader:\n",
        "#             data, target = data.to(device), target.to(device)\n",
        "#             output = model(data)\n",
        "#             test_loss += criterion(output, target, reduction='sum').item()\n",
        "#             pred = output.max(1, keepdim=True)[1]\n",
        "#             correct += pred.eq(target.view_as(pred)).sum().item()\n",
        "        \n",
        "#         test_loss /= len(test_loader.dataset)\n",
        "#         print(\"\\nTest set: Average loss: {:.4f}, Accuracy: {}/{} ({:.0f}%)\\n\".format(\n",
        "#             test_loss, correct, len(test_loader.dataset), 100. * correct / len(test_loader.dataset)\n",
        "#         ))\n",
        "#         print('='*50)"
      ]
    },
    {
      "cell_type": "code",
      "execution_count": 13,
      "metadata": {
        "id": "9TZO7C4u0iPh"
      },
      "outputs": [],
      "source": [
        "def test(model, device, test_loader):\n",
        "    model.eval()\n",
        "    test_loss = 0\n",
        "    correct = 0\n",
        "    with torch.no_grad():\n",
        "        for data, target in test_loader:\n",
        "            data, target = data.to(device), target.to(device)\n",
        "            output = model(data)\n",
        "            test_loss += criterion(output, target, reduction='sum').item()\n",
        "            pred = output.max(1, keepdim=True)[1]\n",
        "            correct += pred.eq(target.view_as(pred)).sum().item()\n",
        "\n",
        "        test_loss /= len(test_loader.dataset)  # -> mean\n",
        "        print(\"\\nTest set: Average loss: {:.4f}, Accuracy: {}/{} ({:.0f}%)\\n\".format(\n",
        "            test_loss, correct, len(test_loader.dataset), 100. * correct / len(test_loader.dataset)))\n",
        "        print('='*50)"
      ]
    },
    {
      "cell_type": "code",
      "execution_count": null,
      "metadata": {
        "id": "Ppu8XJbx0iPh",
        "outputId": "9c93a9b6-e2ab-4db8-bab6-151a00ce2eb4",
        "colab": {
          "base_uri": "https://localhost:8080/"
        }
      },
      "outputs": [
        {
          "output_type": "stream",
          "name": "stdout",
          "text": [
            "Train Epoch:1 [1856/60000 (3%)]\tLoss: 1.083595\n",
            "Train Epoch:1 [3776/60000 (6%)]\tLoss: 0.883576\n",
            "Train Epoch:1 [5696/60000 (9%)]\tLoss: 0.882255\n",
            "Train Epoch:1 [7616/60000 (13%)]\tLoss: 0.647190\n",
            "Train Epoch:1 [9536/60000 (16%)]\tLoss: 0.540642\n",
            "Train Epoch:1 [11456/60000 (19%)]\tLoss: 0.678961\n",
            "Train Epoch:1 [13376/60000 (22%)]\tLoss: 0.735797\n",
            "Train Epoch:1 [15296/60000 (25%)]\tLoss: 0.665839\n",
            "Train Epoch:1 [17216/60000 (29%)]\tLoss: 0.475991\n",
            "Train Epoch:1 [19136/60000 (32%)]\tLoss: 0.489610\n",
            "Train Epoch:1 [21056/60000 (35%)]\tLoss: 0.649605\n",
            "Train Epoch:1 [22976/60000 (38%)]\tLoss: 0.480917\n",
            "Train Epoch:1 [24896/60000 (41%)]\tLoss: 0.381356\n",
            "Train Epoch:1 [26816/60000 (45%)]\tLoss: 0.685879\n",
            "Train Epoch:1 [28736/60000 (48%)]\tLoss: 0.345098\n",
            "Train Epoch:1 [30656/60000 (51%)]\tLoss: 0.412779\n",
            "Train Epoch:1 [32576/60000 (54%)]\tLoss: 0.270462\n",
            "Train Epoch:1 [34496/60000 (57%)]\tLoss: 0.579772\n",
            "Train Epoch:1 [36416/60000 (61%)]\tLoss: 0.564830\n",
            "Train Epoch:1 [38336/60000 (64%)]\tLoss: 0.318793\n",
            "Train Epoch:1 [40256/60000 (67%)]\tLoss: 0.410780\n",
            "Train Epoch:1 [42176/60000 (70%)]\tLoss: 0.407890\n",
            "Train Epoch:1 [44096/60000 (73%)]\tLoss: 0.401700\n",
            "Train Epoch:1 [46016/60000 (77%)]\tLoss: 0.411252\n",
            "Train Epoch:1 [47936/60000 (80%)]\tLoss: 0.313879\n",
            "Train Epoch:1 [49856/60000 (83%)]\tLoss: 0.270489\n",
            "Train Epoch:1 [51776/60000 (86%)]\tLoss: 0.307196\n",
            "Train Epoch:1 [53696/60000 (89%)]\tLoss: 0.268110\n",
            "Train Epoch:1 [55616/60000 (93%)]\tLoss: 0.118300\n",
            "Train Epoch:1 [57536/60000 (96%)]\tLoss: 0.227598\n",
            "Train Epoch:1 [59456/60000 (99%)]\tLoss: 0.330718\n",
            "\n",
            "Test set: Average loss: 0.3759, Accuracy: 8590/10000 (86%)\n",
            "\n",
            "==================================================\n",
            "Train Epoch:2 [1856/60000 (3%)]\tLoss: 0.303968\n",
            "Train Epoch:2 [3776/60000 (6%)]\tLoss: 0.593006\n",
            "Train Epoch:2 [5696/60000 (9%)]\tLoss: 0.294733\n",
            "Train Epoch:2 [7616/60000 (13%)]\tLoss: 0.364520\n",
            "Train Epoch:2 [9536/60000 (16%)]\tLoss: 0.414996\n",
            "Train Epoch:2 [11456/60000 (19%)]\tLoss: 0.260808\n"
          ]
        }
      ],
      "source": [
        "for epoch in range(1, epochs+1):\n",
        "    train(model, device, training_loader, optimizer, epoch)\n",
        "    test(model, device, validation_loader)"
      ]
    },
    {
      "cell_type": "code",
      "source": [
        ""
      ],
      "metadata": {
        "id": "-L6nQ-6h8pGQ"
      },
      "execution_count": null,
      "outputs": []
    }
  ],
  "metadata": {
    "interpreter": {
      "hash": "c200132d1e6ad0d08ee4f5a6aa73cd3fb0821d2e05edf12ce927a5bc1afafe0a"
    },
    "kernelspec": {
      "display_name": "Python 3.9.7 ('tf2.8')",
      "language": "python",
      "name": "python3"
    },
    "language_info": {
      "codemirror_mode": {
        "name": "ipython",
        "version": 3
      },
      "file_extension": ".py",
      "mimetype": "text/x-python",
      "name": "python",
      "nbconvert_exporter": "python",
      "pygments_lexer": "ipython3",
      "version": "3.6.13"
    },
    "orig_nbformat": 4,
    "colab": {
      "name": "alexnet_pytorch.ipynb",
      "provenance": []
    },
    "accelerator": "GPU"
  },
  "nbformat": 4,
  "nbformat_minor": 0
}